{
  "nbformat": 4,
  "nbformat_minor": 0,
  "metadata": {
    "colab": {
      "name": "DLICP1_1.ipynb",
      "provenance": [],
      "toc_visible": true
    },
    "kernelspec": {
      "name": "python3",
      "display_name": "Python 3"
    }
  },
  "cells": [
    {
      "cell_type": "code",
      "metadata": {
        "id": "0jFw5vLVTCaK",
        "colab_type": "code",
        "colab": {
          "base_uri": "https://localhost:8080/",
          "height": 99
        },
        "outputId": "18d4e63d-1812-4a8f-d749-d7e72c430088"
      },
      "source": [
        "\n",
        "import pandas\n",
        "from keras.models import Sequential\n",
        "from keras.layers.core import Dense, Activation\n",
        "\n",
        "# load dataset\n",
        "from sklearn.model_selection import train_test_split\n",
        "import pandas as pd\n",
        "import numpy as np"
      ],
      "execution_count": 1,
      "outputs": [
        {
          "output_type": "stream",
          "text": [
            "Using TensorFlow backend.\n"
          ],
          "name": "stderr"
        },
        {
          "output_type": "display_data",
          "data": {
            "text/html": [
              "<p style=\"color: red;\">\n",
              "The default version of TensorFlow in Colab will soon switch to TensorFlow 2.x.<br>\n",
              "We recommend you <a href=\"https://www.tensorflow.org/guide/migrate\" target=\"_blank\">upgrade</a> now \n",
              "or ensure your notebook will continue to use TensorFlow 1.x via the <code>%tensorflow_version 1.x</code> magic:\n",
              "<a href=\"https://colab.research.google.com/notebooks/tensorflow_version.ipynb\" target=\"_blank\">more info</a>.</p>\n"
            ],
            "text/plain": [
              "<IPython.core.display.HTML object>"
            ]
          },
          "metadata": {
            "tags": []
          }
        }
      ]
    },
    {
      "cell_type": "code",
      "metadata": {
        "id": "fmk3-Ft1TZjC",
        "colab_type": "code",
        "colab": {}
      },
      "source": [
        "dataset = pd.read_csv(\"/content/diabetes.csv\", header=None).values"
      ],
      "execution_count": 0,
      "outputs": []
    },
    {
      "cell_type": "code",
      "metadata": {
        "id": "BrRIHQYYT9vO",
        "colab_type": "code",
        "colab": {}
      },
      "source": [
        "X_train, X_test, Y_train, Y_test = train_test_split(dataset[:,0:8], dataset[:,8],test_size=0.25, random_state=87)"
      ],
      "execution_count": 0,
      "outputs": []
    },
    {
      "cell_type": "markdown",
      "metadata": {
        "id": "mSVYkt0cUFX5",
        "colab_type": "text"
      },
      "source": [
        ""
      ]
    },
    {
      "cell_type": "code",
      "metadata": {
        "id": "XDTJF2cZUGB6",
        "colab_type": "code",
        "colab": {}
      },
      "source": [
        "np.random.seed(42)"
      ],
      "execution_count": 0,
      "outputs": []
    },
    {
      "cell_type": "code",
      "metadata": {
        "id": "1v8X9tLDUPqa",
        "colab_type": "code",
        "colab": {
          "base_uri": "https://localhost:8080/",
          "height": 1000
        },
        "outputId": "9afd483d-a046-47c4-87a7-53b47d7798a7"
      },
      "source": [
        "my_first_nn = Sequential() # create model\n",
        "my_first_nn.add(Dense(23, input_dim=8, activation='relu')) # hidden layer\n",
        "my_first_nn.add(Dense(1, activation='sigmoid')) # output layer\n",
        "my_first_nn.compile(loss='binary_crossentropy', optimizer='adam', metrics=['acc'])\n",
        "my_first_nn_fitted = my_first_nn.fit(X_train, Y_train, epochs=100,initial_epoch=0)"
      ],
      "execution_count": 9,
      "outputs": [
        {
          "output_type": "stream",
          "text": [
            "Epoch 1/100\n",
            "576/576 [==============================] - 0s 402us/step - loss: 7.2783 - acc: 0.3715\n",
            "Epoch 2/100\n",
            "576/576 [==============================] - 0s 37us/step - loss: 4.5737 - acc: 0.4948\n",
            "Epoch 3/100\n",
            "576/576 [==============================] - 0s 44us/step - loss: 4.1369 - acc: 0.5642\n",
            "Epoch 4/100\n",
            "576/576 [==============================] - 0s 39us/step - loss: 3.6120 - acc: 0.5069\n",
            "Epoch 5/100\n",
            "576/576 [==============================] - 0s 38us/step - loss: 3.0344 - acc: 0.4913\n",
            "Epoch 6/100\n",
            "576/576 [==============================] - 0s 39us/step - loss: 1.9328 - acc: 0.4653\n",
            "Epoch 7/100\n",
            "576/576 [==============================] - 0s 38us/step - loss: 1.3012 - acc: 0.5278\n",
            "Epoch 8/100\n",
            "576/576 [==============================] - 0s 48us/step - loss: 1.1030 - acc: 0.5764\n",
            "Epoch 9/100\n",
            "576/576 [==============================] - 0s 53us/step - loss: 1.0527 - acc: 0.6233\n",
            "Epoch 10/100\n",
            "576/576 [==============================] - 0s 40us/step - loss: 0.9593 - acc: 0.6424\n",
            "Epoch 11/100\n",
            "576/576 [==============================] - 0s 41us/step - loss: 0.9311 - acc: 0.6076\n",
            "Epoch 12/100\n",
            "576/576 [==============================] - 0s 51us/step - loss: 0.9085 - acc: 0.6146\n",
            "Epoch 13/100\n",
            "576/576 [==============================] - 0s 39us/step - loss: 0.8697 - acc: 0.6250\n",
            "Epoch 14/100\n",
            "576/576 [==============================] - 0s 41us/step - loss: 0.8504 - acc: 0.6250\n",
            "Epoch 15/100\n",
            "576/576 [==============================] - 0s 47us/step - loss: 0.8237 - acc: 0.6181\n",
            "Epoch 16/100\n",
            "576/576 [==============================] - 0s 51us/step - loss: 0.7906 - acc: 0.6441\n",
            "Epoch 17/100\n",
            "576/576 [==============================] - 0s 43us/step - loss: 0.7575 - acc: 0.6476\n",
            "Epoch 18/100\n",
            "576/576 [==============================] - 0s 42us/step - loss: 0.7746 - acc: 0.6545\n",
            "Epoch 19/100\n",
            "576/576 [==============================] - 0s 51us/step - loss: 0.7649 - acc: 0.6615\n",
            "Epoch 20/100\n",
            "576/576 [==============================] - 0s 38us/step - loss: 0.7123 - acc: 0.6632\n",
            "Epoch 21/100\n",
            "576/576 [==============================] - 0s 41us/step - loss: 0.7007 - acc: 0.6580\n",
            "Epoch 22/100\n",
            "576/576 [==============================] - 0s 42us/step - loss: 0.6865 - acc: 0.6719\n",
            "Epoch 23/100\n",
            "576/576 [==============================] - 0s 41us/step - loss: 0.6997 - acc: 0.6389\n",
            "Epoch 24/100\n",
            "576/576 [==============================] - 0s 37us/step - loss: 0.7051 - acc: 0.6788\n",
            "Epoch 25/100\n",
            "576/576 [==============================] - 0s 41us/step - loss: 0.6604 - acc: 0.6736\n",
            "Epoch 26/100\n",
            "576/576 [==============================] - 0s 45us/step - loss: 0.6633 - acc: 0.6476\n",
            "Epoch 27/100\n",
            "576/576 [==============================] - 0s 46us/step - loss: 0.6625 - acc: 0.6597\n",
            "Epoch 28/100\n",
            "576/576 [==============================] - 0s 42us/step - loss: 0.6488 - acc: 0.6840\n",
            "Epoch 29/100\n",
            "576/576 [==============================] - 0s 37us/step - loss: 0.6226 - acc: 0.6997\n",
            "Epoch 30/100\n",
            "576/576 [==============================] - 0s 40us/step - loss: 0.6537 - acc: 0.6719\n",
            "Epoch 31/100\n",
            "576/576 [==============================] - 0s 38us/step - loss: 0.6303 - acc: 0.7083\n",
            "Epoch 32/100\n",
            "576/576 [==============================] - 0s 42us/step - loss: 0.6184 - acc: 0.6823\n",
            "Epoch 33/100\n",
            "576/576 [==============================] - 0s 44us/step - loss: 0.5984 - acc: 0.7049\n",
            "Epoch 34/100\n",
            "576/576 [==============================] - 0s 38us/step - loss: 0.6080 - acc: 0.6979\n",
            "Epoch 35/100\n",
            "576/576 [==============================] - 0s 46us/step - loss: 0.6107 - acc: 0.7135\n",
            "Epoch 36/100\n",
            "576/576 [==============================] - 0s 43us/step - loss: 0.5946 - acc: 0.7135\n",
            "Epoch 37/100\n",
            "576/576 [==============================] - 0s 49us/step - loss: 0.5971 - acc: 0.6997\n",
            "Epoch 38/100\n",
            "576/576 [==============================] - 0s 37us/step - loss: 0.5919 - acc: 0.6892\n",
            "Epoch 39/100\n",
            "576/576 [==============================] - 0s 57us/step - loss: 0.5823 - acc: 0.6979\n",
            "Epoch 40/100\n",
            "576/576 [==============================] - 0s 38us/step - loss: 0.6048 - acc: 0.7292\n",
            "Epoch 41/100\n",
            "576/576 [==============================] - 0s 38us/step - loss: 0.5893 - acc: 0.7014\n",
            "Epoch 42/100\n",
            "576/576 [==============================] - 0s 42us/step - loss: 0.5942 - acc: 0.7153\n",
            "Epoch 43/100\n",
            "576/576 [==============================] - 0s 44us/step - loss: 0.5762 - acc: 0.7222\n",
            "Epoch 44/100\n",
            "576/576 [==============================] - 0s 48us/step - loss: 0.5882 - acc: 0.7049\n",
            "Epoch 45/100\n",
            "576/576 [==============================] - 0s 45us/step - loss: 0.5682 - acc: 0.7170\n",
            "Epoch 46/100\n",
            "576/576 [==============================] - 0s 54us/step - loss: 0.5746 - acc: 0.7170\n",
            "Epoch 47/100\n",
            "576/576 [==============================] - 0s 41us/step - loss: 0.5780 - acc: 0.7031\n",
            "Epoch 48/100\n",
            "576/576 [==============================] - 0s 42us/step - loss: 0.6281 - acc: 0.6684\n",
            "Epoch 49/100\n",
            "576/576 [==============================] - 0s 45us/step - loss: 0.5858 - acc: 0.7014\n",
            "Epoch 50/100\n",
            "576/576 [==============================] - 0s 45us/step - loss: 0.6015 - acc: 0.7083\n",
            "Epoch 51/100\n",
            "576/576 [==============================] - 0s 44us/step - loss: 0.5840 - acc: 0.7066\n",
            "Epoch 52/100\n",
            "576/576 [==============================] - 0s 45us/step - loss: 0.5637 - acc: 0.7135\n",
            "Epoch 53/100\n",
            "576/576 [==============================] - 0s 44us/step - loss: 0.5766 - acc: 0.7257\n",
            "Epoch 54/100\n",
            "576/576 [==============================] - 0s 39us/step - loss: 0.5745 - acc: 0.7031\n",
            "Epoch 55/100\n",
            "576/576 [==============================] - 0s 38us/step - loss: 0.5556 - acc: 0.7188\n",
            "Epoch 56/100\n",
            "576/576 [==============================] - 0s 41us/step - loss: 0.6065 - acc: 0.7049\n",
            "Epoch 57/100\n",
            "576/576 [==============================] - 0s 40us/step - loss: 0.5811 - acc: 0.7153\n",
            "Epoch 58/100\n",
            "576/576 [==============================] - 0s 35us/step - loss: 0.5684 - acc: 0.7257\n",
            "Epoch 59/100\n",
            "576/576 [==============================] - 0s 38us/step - loss: 0.5603 - acc: 0.7274\n",
            "Epoch 60/100\n",
            "576/576 [==============================] - 0s 42us/step - loss: 0.5673 - acc: 0.7153\n",
            "Epoch 61/100\n",
            "576/576 [==============================] - 0s 42us/step - loss: 0.5586 - acc: 0.7274\n",
            "Epoch 62/100\n",
            "576/576 [==============================] - 0s 54us/step - loss: 0.5635 - acc: 0.7361\n",
            "Epoch 63/100\n",
            "576/576 [==============================] - 0s 45us/step - loss: 0.5994 - acc: 0.6910\n",
            "Epoch 64/100\n",
            "576/576 [==============================] - 0s 44us/step - loss: 0.5526 - acc: 0.7222\n",
            "Epoch 65/100\n",
            "576/576 [==============================] - 0s 44us/step - loss: 0.5404 - acc: 0.7361\n",
            "Epoch 66/100\n",
            "576/576 [==============================] - 0s 40us/step - loss: 0.5720 - acc: 0.7153\n",
            "Epoch 67/100\n",
            "576/576 [==============================] - 0s 45us/step - loss: 0.5583 - acc: 0.7205\n",
            "Epoch 68/100\n",
            "576/576 [==============================] - 0s 35us/step - loss: 0.5466 - acc: 0.7344\n",
            "Epoch 69/100\n",
            "576/576 [==============================] - 0s 40us/step - loss: 0.5439 - acc: 0.7413\n",
            "Epoch 70/100\n",
            "576/576 [==============================] - 0s 43us/step - loss: 0.5383 - acc: 0.7517\n",
            "Epoch 71/100\n",
            "576/576 [==============================] - 0s 48us/step - loss: 0.5497 - acc: 0.7292\n",
            "Epoch 72/100\n",
            "576/576 [==============================] - 0s 52us/step - loss: 0.5424 - acc: 0.7326\n",
            "Epoch 73/100\n",
            "576/576 [==============================] - 0s 39us/step - loss: 0.5379 - acc: 0.7465\n",
            "Epoch 74/100\n",
            "576/576 [==============================] - 0s 37us/step - loss: 0.5400 - acc: 0.7413\n",
            "Epoch 75/100\n",
            "576/576 [==============================] - 0s 45us/step - loss: 0.5482 - acc: 0.7413\n",
            "Epoch 76/100\n",
            "576/576 [==============================] - 0s 55us/step - loss: 0.5450 - acc: 0.7326\n",
            "Epoch 77/100\n",
            "576/576 [==============================] - 0s 45us/step - loss: 0.5694 - acc: 0.6962\n",
            "Epoch 78/100\n",
            "576/576 [==============================] - 0s 48us/step - loss: 0.5484 - acc: 0.7517\n",
            "Epoch 79/100\n",
            "576/576 [==============================] - 0s 42us/step - loss: 0.5462 - acc: 0.7413\n",
            "Epoch 80/100\n",
            "576/576 [==============================] - 0s 43us/step - loss: 0.5472 - acc: 0.7309\n",
            "Epoch 81/100\n",
            "576/576 [==============================] - 0s 43us/step - loss: 0.5304 - acc: 0.7413\n",
            "Epoch 82/100\n",
            "576/576 [==============================] - 0s 45us/step - loss: 0.5431 - acc: 0.7240\n",
            "Epoch 83/100\n",
            "576/576 [==============================] - 0s 57us/step - loss: 0.5363 - acc: 0.7413\n",
            "Epoch 84/100\n",
            "576/576 [==============================] - 0s 48us/step - loss: 0.5692 - acc: 0.7257\n",
            "Epoch 85/100\n",
            "576/576 [==============================] - 0s 54us/step - loss: 0.5631 - acc: 0.7118\n",
            "Epoch 86/100\n",
            "576/576 [==============================] - 0s 57us/step - loss: 0.5431 - acc: 0.7188\n",
            "Epoch 87/100\n",
            "576/576 [==============================] - 0s 37us/step - loss: 0.5674 - acc: 0.7135\n",
            "Epoch 88/100\n",
            "576/576 [==============================] - 0s 46us/step - loss: 0.5439 - acc: 0.7500\n",
            "Epoch 89/100\n",
            "576/576 [==============================] - 0s 54us/step - loss: 0.5324 - acc: 0.7604\n",
            "Epoch 90/100\n",
            "576/576 [==============================] - 0s 43us/step - loss: 0.5432 - acc: 0.7153\n",
            "Epoch 91/100\n",
            "576/576 [==============================] - 0s 55us/step - loss: 0.5389 - acc: 0.7431\n",
            "Epoch 92/100\n",
            "576/576 [==============================] - 0s 43us/step - loss: 0.5381 - acc: 0.7378\n",
            "Epoch 93/100\n",
            "576/576 [==============================] - 0s 47us/step - loss: 0.5592 - acc: 0.7101\n",
            "Epoch 94/100\n",
            "576/576 [==============================] - 0s 47us/step - loss: 0.5525 - acc: 0.7517\n",
            "Epoch 95/100\n",
            "576/576 [==============================] - 0s 48us/step - loss: 0.5204 - acc: 0.7674\n",
            "Epoch 96/100\n",
            "576/576 [==============================] - 0s 45us/step - loss: 0.5247 - acc: 0.7587\n",
            "Epoch 97/100\n",
            "576/576 [==============================] - 0s 48us/step - loss: 0.5350 - acc: 0.7378\n",
            "Epoch 98/100\n",
            "576/576 [==============================] - 0s 49us/step - loss: 0.5217 - acc: 0.7517\n",
            "Epoch 99/100\n",
            "576/576 [==============================] - 0s 43us/step - loss: 0.5174 - acc: 0.7622\n",
            "Epoch 100/100\n",
            "576/576 [==============================] - 0s 39us/step - loss: 0.5353 - acc: 0.7361\n"
          ],
          "name": "stdout"
        }
      ]
    },
    {
      "cell_type": "code",
      "metadata": {
        "id": "cM6sl5oUUZqo",
        "colab_type": "code",
        "colab": {
          "base_uri": "https://localhost:8080/",
          "height": 277
        },
        "outputId": "eb2f94e4-eb08-43c4-870b-25c9b664e35a"
      },
      "source": [
        "print(my_first_nn.summary())\n",
        "print(my_first_nn.evaluate(X_test, Y_test))\n"
      ],
      "execution_count": 10,
      "outputs": [
        {
          "output_type": "stream",
          "text": [
            "Model: \"sequential_3\"\n",
            "_________________________________________________________________\n",
            "Layer (type)                 Output Shape              Param #   \n",
            "=================================================================\n",
            "dense_5 (Dense)              (None, 23)                207       \n",
            "_________________________________________________________________\n",
            "dense_6 (Dense)              (None, 1)                 24        \n",
            "=================================================================\n",
            "Total params: 231\n",
            "Trainable params: 231\n",
            "Non-trainable params: 0\n",
            "_________________________________________________________________\n",
            "None\n",
            "192/192 [==============================] - 0s 332us/step\n",
            "[0.6342052320639292, 0.65625]\n"
          ],
          "name": "stdout"
        }
      ]
    }
  ]
}